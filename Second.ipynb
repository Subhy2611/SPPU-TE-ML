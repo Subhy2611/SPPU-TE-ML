{
 "cells": [
  {
   "cell_type": "code",
   "execution_count": 25,
   "id": "76b444cf-68ca-4262-83e4-a7313c674831",
   "metadata": {},
   "outputs": [
    {
     "name": "stdout",
     "output_type": "stream",
     "text": [
      "Enter the first number a:  3\n",
      "Enter the second number b:  5\n",
      "Enter the third number c:  1\n"
     ]
    },
    {
     "name": "stdout",
     "output_type": "stream",
     "text": [
      "b is greater\n"
     ]
    }
   ],
   "source": [
    "a = int(input(\"Enter the first number a: \"))\n",
    "b = int(input(\"Enter the second number b: \"))\n",
    "c = int(input(\"Enter the third number c: \"))\n",
    "\n",
    "\n",
    "if a>b:\n",
    "    if a>c:\n",
    "        print(\"a is greater\")\n",
    "    else:\n",
    "        print(\"c is greater\")\n",
    "else:\n",
    "    if b>c:\n",
    "        print(\"b is greater\")\n",
    "    else:\n",
    "        print(\"c is greater\")\n",
    "\n"
   ]
  },
  {
   "cell_type": "code",
   "execution_count": 27,
   "id": "40495a08-8b4b-43b1-9de6-085fd5ee3aad",
   "metadata": {},
   "outputs": [
    {
     "name": "stdout",
     "output_type": "stream",
     "text": [
      "12\n",
      "a\n",
      "b\n",
      "12.8\n"
     ]
    }
   ],
   "source": [
    "for a in (12,'a','b',12.8):\n",
    "    print(a)"
   ]
  },
  {
   "cell_type": "code",
   "execution_count": 35,
   "id": "1881c0ca-6c95-4fa9-ad2e-93343425c2a5",
   "metadata": {},
   "outputs": [
    {
     "name": "stdout",
     "output_type": "stream",
     "text": [
      "Subham"
     ]
    }
   ],
   "source": [
    "name = 'Subham'\n",
    "for n in name:\n",
    "    print(n, end='')"
   ]
  },
  {
   "cell_type": "code",
   "execution_count": 41,
   "id": "3d1d711b-1421-4898-a9a3-49d6fbf92272",
   "metadata": {},
   "outputs": [
    {
     "name": "stdout",
     "output_type": "stream",
     "text": [
      "Apple\n",
      "Ball\n",
      "Cat\n"
     ]
    }
   ],
   "source": [
    "a=[\"Apple\",\"Ball\",\"Cat\"]\n",
    "for n in a:\n",
    "    print(n)"
   ]
  },
  {
   "cell_type": "code",
   "execution_count": 47,
   "id": "e0217704-d32d-46b7-adbb-95b7a72c7140",
   "metadata": {},
   "outputs": [
    {
     "name": "stdout",
     "output_type": "stream",
     "text": [
      "AppleBallCat"
     ]
    }
   ],
   "source": [
    "a=[\"Apple\",\"Ball\",\"Cat\"]\n",
    "for n in a:\n",
    "    print(n, end='')"
   ]
  },
  {
   "cell_type": "code",
   "execution_count": 49,
   "id": "59c48c58-51ff-4197-aa63-09786126d3c9",
   "metadata": {},
   "outputs": [
    {
     "name": "stdout",
     "output_type": "stream",
     "text": [
      "1\n",
      "3\n",
      "5\n",
      "7\n",
      "9\n"
     ]
    }
   ],
   "source": [
    "for number in range(1, 11, 2):\n",
    "    print(number)"
   ]
  },
  {
   "cell_type": "code",
   "execution_count": 51,
   "id": "8f394073-5599-4479-8f84-cae5dc2760e5",
   "metadata": {},
   "outputs": [
    {
     "name": "stdout",
     "output_type": "stream",
     "text": [
      "1 3 5 7 9 "
     ]
    }
   ],
   "source": [
    "for number in range(1, 11, 2):\n",
    "    print(number, end=' ')"
   ]
  },
  {
   "cell_type": "code",
   "execution_count": 53,
   "id": "d69a4a6e-1a43-4c67-b71c-e889c68f4c02",
   "metadata": {},
   "outputs": [
    {
     "name": "stdout",
     "output_type": "stream",
     "text": [
      "2\n",
      "4\n",
      "6\n",
      "8\n",
      "10\n"
     ]
    }
   ],
   "source": [
    "for number in range(2, 11, 2):\n",
    "    print(number)"
   ]
  },
  {
   "cell_type": "code",
   "execution_count": 55,
   "id": "5302b2fe-695d-4f3c-91a4-0c6fbe6ff26e",
   "metadata": {},
   "outputs": [
    {
     "name": "stdout",
     "output_type": "stream",
     "text": [
      "2 4 6 8 10 "
     ]
    }
   ],
   "source": [
    "for number in range(2, 11, 2):\n",
    "    print(number,end=' ')"
   ]
  }
 ],
 "metadata": {
  "kernelspec": {
   "display_name": "Python 3 (ipykernel)",
   "language": "python",
   "name": "python3"
  },
  "language_info": {
   "codemirror_mode": {
    "name": "ipython",
    "version": 3
   },
   "file_extension": ".py",
   "mimetype": "text/x-python",
   "name": "python",
   "nbconvert_exporter": "python",
   "pygments_lexer": "ipython3",
   "version": "3.12.4"
  }
 },
 "nbformat": 4,
 "nbformat_minor": 5
}
