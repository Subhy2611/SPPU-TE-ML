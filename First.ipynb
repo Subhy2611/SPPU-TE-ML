{
 "cells": [
  {
   "cell_type": "code",
   "execution_count": 10,
   "id": "9238a32b-15de-42f5-9cc3-099a74fddb16",
   "metadata": {},
   "outputs": [
    {
     "data": {
      "text/plain": [
       "18"
      ]
     },
     "execution_count": 10,
     "metadata": {},
     "output_type": "execute_result"
    }
   ],
   "source": [
    "6*3"
   ]
  },
  {
   "cell_type": "code",
   "execution_count": 2,
   "id": "a5579945-6f16-4eab-b1da-94be852b45e6",
   "metadata": {},
   "outputs": [
    {
     "data": {
      "text/plain": [
       "10"
      ]
     },
     "execution_count": 2,
     "metadata": {},
     "output_type": "execute_result"
    }
   ],
   "source": [
    "4+6"
   ]
  },
  {
   "cell_type": "code",
   "execution_count": 3,
   "id": "48b24afa-ea3f-4db8-b2bb-a89cacc6cc63",
   "metadata": {},
   "outputs": [
    {
     "data": {
      "text/plain": [
       "0.8"
      ]
     },
     "execution_count": 3,
     "metadata": {},
     "output_type": "execute_result"
    }
   ],
   "source": [
    "4/5"
   ]
  },
  {
   "cell_type": "code",
   "execution_count": 4,
   "id": "14caec1f-bb5a-4b74-b41c-c56322089bd0",
   "metadata": {},
   "outputs": [],
   "source": [
    "a=10\n",
    "b=5"
   ]
  },
  {
   "cell_type": "code",
   "execution_count": 5,
   "id": "b6b2d05d-29ff-4a1f-b759-c8d82ec1af38",
   "metadata": {},
   "outputs": [
    {
     "name": "stdout",
     "output_type": "stream",
     "text": [
      "Addition 15\n"
     ]
    }
   ],
   "source": [
    "add=a+b\n",
    "print(\"Addition\",add)"
   ]
  },
  {
   "cell_type": "code",
   "execution_count": 6,
   "id": "3481292b-0799-4915-8615-81dda0fa668d",
   "metadata": {},
   "outputs": [
    {
     "name": "stdout",
     "output_type": "stream",
     "text": [
      "Subtraction: 5\n"
     ]
    }
   ],
   "source": [
    "subtract=a-b\n",
    "print(\"Subtraction:\",subtract)"
   ]
  },
  {
   "cell_type": "code",
   "execution_count": 7,
   "id": "2535a078-9153-48ab-b9b5-2772591028f0",
   "metadata": {},
   "outputs": [
    {
     "name": "stdout",
     "output_type": "stream",
     "text": [
      "Multiplication: 50\n"
     ]
    }
   ],
   "source": [
    "multiply=a*b\n",
    "print(\"Multiplication:\",multiply)"
   ]
  },
  {
   "cell_type": "code",
   "execution_count": 8,
   "id": "914d6a60-1f7e-48dc-aa0e-e45bee0da646",
   "metadata": {},
   "outputs": [
    {
     "name": "stdout",
     "output_type": "stream",
     "text": [
      "Division: 2.0\n"
     ]
    }
   ],
   "source": [
    "divide=a/b\n",
    "print(\"Division:\",divide)"
   ]
  },
  {
   "cell_type": "code",
   "execution_count": 9,
   "id": "01ed9076-6654-474b-853c-60f2fc52f2bd",
   "metadata": {},
   "outputs": [
    {
     "name": "stdout",
     "output_type": "stream",
     "text": [
      "Hello World\n"
     ]
    }
   ],
   "source": [
    "h_w=\"Hello World\"\n",
    "print(h_w)"
   ]
  },
  {
   "cell_type": "code",
   "execution_count": 11,
   "id": "29dd9fa3-4b7a-4b58-aad1-3d365251bbad",
   "metadata": {},
   "outputs": [
    {
     "name": "stdout",
     "output_type": "stream",
     "text": [
      "HELLO WORLD\n"
     ]
    }
   ],
   "source": [
    "print(h_w.upper())"
   ]
  },
  {
   "cell_type": "code",
   "execution_count": 12,
   "id": "dcdf1688-b04a-4d67-a9be-b75973c350e0",
   "metadata": {},
   "outputs": [
    {
     "name": "stdout",
     "output_type": "stream",
     "text": [
      "hello world\n"
     ]
    }
   ],
   "source": [
    "print(h_w.lower())"
   ]
  },
  {
   "cell_type": "code",
   "execution_count": 13,
   "id": "8487a207-95fd-4f1b-b5e8-84722faef3ee",
   "metadata": {},
   "outputs": [
    {
     "name": "stdout",
     "output_type": "stream",
     "text": [
      "Hello World\n"
     ]
    }
   ],
   "source": [
    "print(h_w.title())"
   ]
  },
  {
   "cell_type": "code",
   "execution_count": 14,
   "id": "65dd74fb-b88d-4db2-a3c8-7e131e95675b",
   "metadata": {},
   "outputs": [
    {
     "name": "stdout",
     "output_type": "stream",
     "text": [
      "hELLO wORLD\n"
     ]
    }
   ],
   "source": [
    "print(h_w.swapcase())"
   ]
  },
  {
   "cell_type": "code",
   "execution_count": 15,
   "id": "11b3609f-b489-4f0c-ad62-f7856c39354e",
   "metadata": {},
   "outputs": [
    {
     "name": "stdout",
     "output_type": "stream",
     "text": [
      "Hello \n",
      "World\n"
     ]
    }
   ],
   "source": [
    "print(\"Hello \\nWorld\")"
   ]
  },
  {
   "cell_type": "code",
   "execution_count": 16,
   "id": "59a2857f-467e-4581-82ca-e561c7d0f155",
   "metadata": {},
   "outputs": [
    {
     "name": "stdout",
     "output_type": "stream",
     "text": [
      "Hello World Hello World Hello World \n"
     ]
    }
   ],
   "source": [
    "print((h_w+\" \")*3)"
   ]
  },
  {
   "cell_type": "code",
   "execution_count": 1,
   "id": "62440846-2701-469f-b17e-3bedb6c81ed2",
   "metadata": {},
   "outputs": [
    {
     "data": {
      "text/plain": [
       "int"
      ]
     },
     "execution_count": 1,
     "metadata": {},
     "output_type": "execute_result"
    }
   ],
   "source": [
    "a=3\n",
    "type(3)"
   ]
  },
  {
   "cell_type": "code",
   "execution_count": 3,
   "id": "e28b3103-10c9-4f4a-a524-8370e66e935e",
   "metadata": {},
   "outputs": [
    {
     "ename": "NameError",
     "evalue": "name 'Subham' is not defined",
     "output_type": "error",
     "traceback": [
      "\u001b[1;31m---------------------------------------------------------------------------\u001b[0m",
      "\u001b[1;31mNameError\u001b[0m                                 Traceback (most recent call last)",
      "Cell \u001b[1;32mIn[3], line 1\u001b[0m\n\u001b[1;32m----> 1\u001b[0m b\u001b[38;5;241m=\u001b[39mSubham\n\u001b[0;32m      2\u001b[0m \u001b[38;5;28mtype\u001b[39m(b)\n",
      "\u001b[1;31mNameError\u001b[0m: name 'Subham' is not defined"
     ]
    }
   ],
   "source": [
    "b=Subham\n",
    "type(b)"
   ]
  },
  {
   "cell_type": "code",
   "execution_count": 5,
   "id": "14f16129-47bc-4a0d-9bc8-a736ab40f4ea",
   "metadata": {},
   "outputs": [
    {
     "ename": "NameError",
     "evalue": "name 'NONE' is not defined",
     "output_type": "error",
     "traceback": [
      "\u001b[1;31m---------------------------------------------------------------------------\u001b[0m",
      "\u001b[1;31mNameError\u001b[0m                                 Traceback (most recent call last)",
      "Cell \u001b[1;32mIn[5], line 1\u001b[0m\n\u001b[1;32m----> 1\u001b[0m b\u001b[38;5;241m=\u001b[39mNONE\n",
      "\u001b[1;31mNameError\u001b[0m: name 'NONE' is not defined"
     ]
    }
   ],
   "source": [
    "b=NONE"
   ]
  },
  {
   "cell_type": "code",
   "execution_count": 7,
   "id": "34270ed7-a29f-41ce-8559-c30207230626",
   "metadata": {},
   "outputs": [
    {
     "ename": "NameError",
     "evalue": "name 'NONE' is not defined",
     "output_type": "error",
     "traceback": [
      "\u001b[1;31m---------------------------------------------------------------------------\u001b[0m",
      "\u001b[1;31mNameError\u001b[0m                                 Traceback (most recent call last)",
      "Cell \u001b[1;32mIn[7], line 1\u001b[0m\n\u001b[1;32m----> 1\u001b[0m b\u001b[38;5;241m=\u001b[39mNONE\n\u001b[0;32m      2\u001b[0m \u001b[38;5;28mprint\u001b[39m(b)\n",
      "\u001b[1;31mNameError\u001b[0m: name 'NONE' is not defined"
     ]
    }
   ],
   "source": [
    "b=NONE\n",
    "print(b)"
   ]
  },
  {
   "cell_type": "code",
   "execution_count": 9,
   "id": "c0e0adb6-e06b-4c6d-a3da-a6555d1339f8",
   "metadata": {},
   "outputs": [
    {
     "name": "stdout",
     "output_type": "stream",
     "text": [
      "None\n"
     ]
    },
    {
     "data": {
      "text/plain": [
       "NoneType"
      ]
     },
     "execution_count": 9,
     "metadata": {},
     "output_type": "execute_result"
    }
   ],
   "source": [
    "b=None\n",
    "print(b)\n",
    "type(b)"
   ]
  },
  {
   "cell_type": "code",
   "execution_count": 11,
   "id": "f1a7d0c2-f35d-4254-ae25-590f3aa2ec1b",
   "metadata": {},
   "outputs": [
    {
     "name": "stdout",
     "output_type": "stream",
     "text": [
      "None\n",
      "None\n"
     ]
    }
   ],
   "source": [
    "c=None\n",
    "print(c)\n",
    "print(c)"
   ]
  },
  {
   "cell_type": "code",
   "execution_count": 13,
   "id": "9f69cf86-d6eb-4620-9458-2300b5d140cb",
   "metadata": {},
   "outputs": [
    {
     "name": "stdout",
     "output_type": "stream",
     "text": [
      "Hello World\n"
     ]
    }
   ],
   "source": [
    "print(\"Hello\",\"World\")"
   ]
  },
  {
   "cell_type": "code",
   "execution_count": 15,
   "id": "dbef2d0e-c9b8-4e4f-a1a7-bcb32a688eab",
   "metadata": {},
   "outputs": [
    {
     "name": "stdout",
     "output_type": "stream",
     "text": [
      "None None\n"
     ]
    }
   ],
   "source": [
    "d=None\n",
    "print(d,d)"
   ]
  },
  {
   "cell_type": "code",
   "execution_count": 17,
   "id": "6e2af7af-9edf-4779-97ff-f949daa11f68",
   "metadata": {},
   "outputs": [
    {
     "ename": "TypeError",
     "evalue": "print() argument after * must be an iterable, not type",
     "output_type": "error",
     "traceback": [
      "\u001b[1;31m---------------------------------------------------------------------------\u001b[0m",
      "\u001b[1;31mTypeError\u001b[0m                                 Traceback (most recent call last)",
      "Cell \u001b[1;32mIn[17], line 1\u001b[0m\n\u001b[1;32m----> 1\u001b[0m \u001b[38;5;28mprint\u001b[39m(\u001b[38;5;241m*\u001b[39m\u001b[38;5;28mobject\u001b[39m, Sep\u001b[38;5;241m=\u001b[39m\u001b[38;5;124m\"\u001b[39m\u001b[38;5;124mSubham\u001b[39m\u001b[38;5;124m\"\u001b[39m, end\u001b[38;5;241m=\u001b[39m\u001b[38;5;124m\"\u001b[39m\u001b[38;5;124mGhosh\u001b[39m\u001b[38;5;124m\"\u001b[39m)\n",
      "\u001b[1;31mTypeError\u001b[0m: print() argument after * must be an iterable, not type"
     ]
    }
   ],
   "source": [
    "print(*object, Sep=\"Subham\", end=\"Ghosh\")"
   ]
  },
  {
   "cell_type": "code",
   "execution_count": 19,
   "id": "98ebb593-4b1b-45da-b4bf-1fa7f2234d23",
   "metadata": {},
   "outputs": [
    {
     "name": "stdout",
     "output_type": "stream",
     "text": [
      "The value of a =Subham5Ghosh"
     ]
    }
   ],
   "source": [
    "a=5\n",
    "b=6\n",
    "print(\"The value of a =\",a,sep=\"Subham\",end=\"Ghosh\")"
   ]
  },
  {
   "cell_type": "code",
   "execution_count": 21,
   "id": "521c63b5-d506-4896-959a-51ee788491d1",
   "metadata": {},
   "outputs": [
    {
     "ename": "TypeError",
     "evalue": "print() argument after * must be an iterable, not type",
     "output_type": "error",
     "traceback": [
      "\u001b[1;31m---------------------------------------------------------------------------\u001b[0m",
      "\u001b[1;31mTypeError\u001b[0m                                 Traceback (most recent call last)",
      "Cell \u001b[1;32mIn[21], line 1\u001b[0m\n\u001b[1;32m----> 1\u001b[0m \u001b[38;5;28mprint\u001b[39m(\u001b[38;5;241m*\u001b[39m\u001b[38;5;28mobject\u001b[39m, sep\u001b[38;5;241m=\u001b[39m\u001b[38;5;124m\"\u001b[39m\u001b[38;5;124mSubham\u001b[39m\u001b[38;5;124m\"\u001b[39m, end\u001b[38;5;241m=\u001b[39m\u001b[38;5;124m\"\u001b[39m\u001b[38;5;124mGhosh\u001b[39m\u001b[38;5;124m\"\u001b[39m)\n",
      "\u001b[1;31mTypeError\u001b[0m: print() argument after * must be an iterable, not type"
     ]
    }
   ],
   "source": [
    "print(*object, sep=\"Subham\", end=\"Ghosh\")"
   ]
  },
  {
   "cell_type": "code",
   "execution_count": 39,
   "id": "74a83d37-b642-4640-a4cd-beedd234d805",
   "metadata": {},
   "outputs": [
    {
     "name": "stdout",
     "output_type": "stream",
     "text": [
      "HelloSubhamWorldGhosh\tHiGhosh"
     ]
    }
   ],
   "source": [
    "print('Hello','World',sep=\"Subham\",end=\"Ghosh\\t\")\n",
    "print('Hi', sep=\"Subham\", end=\"Ghosh\")"
   ]
  },
  {
   "cell_type": "code",
   "execution_count": 25,
   "id": "49b25a65-29b3-4f88-a229-4ada846e3ed1",
   "metadata": {},
   "outputs": [
    {
     "name": "stdout",
     "output_type": "stream",
     "text": [
      "HelloSubhamWorldGhosh\n",
      "HiGhosh"
     ]
    }
   ],
   "source": [
    "print('Hello','World',sep=\"Subham\",end=\"Ghosh\\n\")\n",
    "print('Hi', sep=\"Subham\", end=\"Ghosh\")"
   ]
  },
  {
   "cell_type": "code",
   "execution_count": 29,
   "id": "ca935a73-a47b-4c00-a3d9-95326484c7b4",
   "metadata": {},
   "outputs": [
    {
     "name": "stdout",
     "output_type": "stream",
     "text": [
      "HelloSubhamWorldGhosh\n",
      "HiSubhamByeGhosh"
     ]
    }
   ],
   "source": [
    "print('Hello','World',sep=\"Subham\",end=\"Ghosh\\n\")\n",
    "print('Hi','Bye', sep=\"Subham\", end=\"Ghosh\")"
   ]
  },
  {
   "cell_type": "code",
   "execution_count": 37,
   "id": "9b18a7d4-b194-4c5a-84a1-49c83023390b",
   "metadata": {},
   "outputs": [
    {
     "name": "stdout",
     "output_type": "stream",
     "text": [
      "83\n"
     ]
    },
    {
     "data": {
      "text/plain": [
       "int"
      ]
     },
     "execution_count": 37,
     "metadata": {},
     "output_type": "execute_result"
    }
   ],
   "source": [
    "num=0o123\n",
    "print(num)\n",
    "type(num)"
   ]
  },
  {
   "cell_type": "code",
   "execution_count": 33,
   "id": "86f31d68-f45b-47e6-a194-b60bf2844db3",
   "metadata": {},
   "outputs": [
    {
     "name": "stdout",
     "output_type": "stream",
     "text": [
      "291\n"
     ]
    }
   ],
   "source": [
    "num=0x123\n",
    "print(num)"
   ]
  },
  {
   "cell_type": "code",
   "execution_count": 35,
   "id": "1ee6b426-31bc-47fd-88a3-12beb5c55324",
   "metadata": {},
   "outputs": [
    {
     "name": "stdout",
     "output_type": "stream",
     "text": [
      "5\n"
     ]
    }
   ],
   "source": [
    "num=0b101\n",
    "print(num)"
   ]
  },
  {
   "cell_type": "code",
   "execution_count": 41,
   "id": "254645d2-86e6-473a-9bdc-0c908ffd90e4",
   "metadata": {},
   "outputs": [
    {
     "name": "stdout",
     "output_type": "stream",
     "text": [
      "97\n",
      "97\n",
      "97\n"
     ]
    }
   ],
   "source": [
    "num1=num2=num3=97\n",
    "print(num1)\n",
    "print(num2)\n",
    "print(num3)"
   ]
  },
  {
   "cell_type": "code",
   "execution_count": 43,
   "id": "c95601c6-c56f-439a-ab8a-3ec732d6fc10",
   "metadata": {},
   "outputs": [
    {
     "name": "stdout",
     "output_type": "stream",
     "text": [
      "12\n",
      "24\n",
      "36\n"
     ]
    }
   ],
   "source": [
    "num1,num2,num3=12,24,36\n",
    "print(num1)\n",
    "print(num2)\n",
    "print(num3)"
   ]
  },
  {
   "cell_type": "code",
   "execution_count": 45,
   "id": "79271a89-385b-410f-a1b9-2e88bfdff957",
   "metadata": {},
   "outputs": [
    {
     "name": "stdout",
     "output_type": "stream",
     "text": [
      "a= 10\n"
     ]
    }
   ],
   "source": [
    "a=10; print(\"a=\",a); b=20"
   ]
  },
  {
   "cell_type": "code",
   "execution_count": 47,
   "id": "d03071ff-3f55-45c1-a42b-85ebd217c154",
   "metadata": {},
   "outputs": [
    {
     "ename": "SyntaxError",
     "evalue": "invalid syntax (2794129853.py, line 1)",
     "output_type": "error",
     "traceback": [
      "\u001b[1;36m  Cell \u001b[1;32mIn[47], line 1\u001b[1;36m\u001b[0m\n\u001b[1;33m    a=10 print(\"a=\",a) b=20\u001b[0m\n\u001b[1;37m         ^\u001b[0m\n\u001b[1;31mSyntaxError\u001b[0m\u001b[1;31m:\u001b[0m invalid syntax\n"
     ]
    }
   ],
   "source": [
    "a=10 print(\"a=\",a) b=20"
   ]
  },
  {
   "cell_type": "code",
   "execution_count": 49,
   "id": "967c695b-3aea-45f3-9047-cbbf582be57a",
   "metadata": {},
   "outputs": [
    {
     "name": "stdout",
     "output_type": "stream",
     "text": [
      "20.2\n"
     ]
    }
   ],
   "source": [
    "a=10\n",
    "b=10.2\n",
    "c=a+b\n",
    "print(c)"
   ]
  },
  {
   "cell_type": "code",
   "execution_count": 53,
   "id": "c1dfa0cf-d68b-4c87-80f4-64f2f47c9bd9",
   "metadata": {},
   "outputs": [
    {
     "ename": "TypeError",
     "evalue": "can only concatenate str (not \"int\") to str",
     "output_type": "error",
     "traceback": [
      "\u001b[1;31m---------------------------------------------------------------------------\u001b[0m",
      "\u001b[1;31mTypeError\u001b[0m                                 Traceback (most recent call last)",
      "Cell \u001b[1;32mIn[53], line 3\u001b[0m\n\u001b[0;32m      1\u001b[0m a\u001b[38;5;241m=\u001b[39m\u001b[38;5;124m\"\u001b[39m\u001b[38;5;124mSubham\u001b[39m\u001b[38;5;124m\"\u001b[39m\n\u001b[0;32m      2\u001b[0m b\u001b[38;5;241m=\u001b[39m\u001b[38;5;241m261104\u001b[39m\n\u001b[1;32m----> 3\u001b[0m c\u001b[38;5;241m=\u001b[39ma\u001b[38;5;241m+\u001b[39mb\n\u001b[0;32m      4\u001b[0m \u001b[38;5;28mprint\u001b[39m(c)\n",
      "\u001b[1;31mTypeError\u001b[0m: can only concatenate str (not \"int\") to str"
     ]
    }
   ],
   "source": [
    "a=\"Subham\"\n",
    "b=261104\n",
    "c=a+b\n",
    "print(c)"
   ]
  },
  {
   "cell_type": "code",
   "execution_count": 55,
   "id": "69cfc55c-d1f8-4c8c-a935-63423b94c906",
   "metadata": {},
   "outputs": [
    {
     "name": "stdout",
     "output_type": "stream",
     "text": [
      "Subham261104\n"
     ]
    }
   ],
   "source": [
    "a=\"Subham\"\n",
    "b=str(261104)\n",
    "print(a+b)"
   ]
  },
  {
   "cell_type": "code",
   "execution_count": 57,
   "id": "99fd001e-4dee-43f8-a685-1b4a3f51d7b8",
   "metadata": {},
   "outputs": [
    {
     "name": "stdout",
     "output_type": "stream",
     "text": [
      "print in \"bold\" letter\n"
     ]
    }
   ],
   "source": [
    "print('print in \"bold\" letter')"
   ]
  },
  {
   "cell_type": "code",
   "execution_count": 59,
   "id": "4af0b2d9-eab6-4c47-bb39-354455a7f150",
   "metadata": {},
   "outputs": [
    {
     "name": "stdout",
     "output_type": "stream",
     "text": [
      "print in 'Bold' letter\n"
     ]
    }
   ],
   "source": [
    "print(\"print in 'Bold' letter\")"
   ]
  },
  {
   "cell_type": "code",
   "execution_count": 61,
   "id": "eb9dcdae-b49a-4329-bc3b-ed554e0e9496",
   "metadata": {},
   "outputs": [
    {
     "ename": "SyntaxError",
     "evalue": "unexpected character after line continuation character (3112113349.py, line 1)",
     "output_type": "error",
     "traceback": [
      "\u001b[1;36m  Cell \u001b[1;32mIn[61], line 1\u001b[1;36m\u001b[0m\n\u001b[1;33m    print('Subham'\\n'Ghosh')\u001b[0m\n\u001b[1;37m                   ^\u001b[0m\n\u001b[1;31mSyntaxError\u001b[0m\u001b[1;31m:\u001b[0m unexpected character after line continuation character\n"
     ]
    }
   ],
   "source": [
    "print('Subham'\\n'Ghosh')"
   ]
  },
  {
   "cell_type": "code",
   "execution_count": 69,
   "id": "57716cd2-c0e4-459c-9569-e4cf76bcde7e",
   "metadata": {},
   "outputs": [
    {
     "name": "stdout",
     "output_type": "stream",
     "text": [
      "Subham\n",
      "Ghosh\n"
     ]
    }
   ],
   "source": [
    "print('Subham')\n",
    "print('Ghosh')"
   ]
  },
  {
   "cell_type": "code",
   "execution_count": 71,
   "id": "93083e03-ab42-408c-998d-5bd42d6c1ea8",
   "metadata": {},
   "outputs": [
    {
     "name": "stdout",
     "output_type": "stream",
     "text": [
      "Subham\n",
      "Ghosh\n"
     ]
    }
   ],
   "source": [
    "print('Subham\\nGhosh')"
   ]
  },
  {
   "cell_type": "code",
   "execution_count": 73,
   "id": "145a6846-5692-49e4-a393-18d65bfb636f",
   "metadata": {},
   "outputs": [
    {
     "name": "stdout",
     "output_type": "stream",
     "text": [
      "Subham\tGhosh\n"
     ]
    }
   ],
   "source": [
    "print('Subham\\tGhosh')"
   ]
  },
  {
   "cell_type": "code",
   "execution_count": 75,
   "id": "56d1b0f2-75c6-4ace-bf00-9d9d228249be",
   "metadata": {},
   "outputs": [
    {
     "name": "stdout",
     "output_type": "stream",
     "text": [
      "SubhaGhosh\n"
     ]
    }
   ],
   "source": [
    "print('Subham\\bGhosh')"
   ]
  },
  {
   "cell_type": "code",
   "execution_count": 79,
   "id": "2bd56223-6ae7-47f4-a015-26086b27ceb5",
   "metadata": {},
   "outputs": [
    {
     "name": "stdout",
     "output_type": "stream",
     "text": [
      "My Name is Subham Ghosh\n",
      "I study in TE IT class and\n",
      "Vaishali Maam is teaching us ML\n"
     ]
    }
   ],
   "source": [
    "b='''My Name is Subham Ghosh\n",
    "I study in TE IT class and\n",
    "Vaishali Maam is teaching us ML'''\n",
    "print(b)"
   ]
  },
  {
   "cell_type": "code",
   "execution_count": 81,
   "id": "981adeda-c74f-489e-9c41-38f0ae6a4ec8",
   "metadata": {},
   "outputs": [
    {
     "data": {
      "text/plain": [
       "['My',\n",
       " 'Name',\n",
       " 'is',\n",
       " 'Subham',\n",
       " 'Ghosh',\n",
       " 'I',\n",
       " 'study',\n",
       " 'in',\n",
       " 'TE',\n",
       " 'IT',\n",
       " 'class',\n",
       " 'and',\n",
       " 'Vaishali',\n",
       " 'Maam',\n",
       " 'is',\n",
       " 'teaching',\n",
       " 'us',\n",
       " 'ML']"
      ]
     },
     "execution_count": 81,
     "metadata": {},
     "output_type": "execute_result"
    }
   ],
   "source": [
    "b.split()"
   ]
  },
  {
   "cell_type": "code",
   "execution_count": 83,
   "id": "07ab746b-7e30-40b5-b136-193394556006",
   "metadata": {},
   "outputs": [
    {
     "data": {
      "text/plain": [
       "False"
      ]
     },
     "execution_count": 83,
     "metadata": {},
     "output_type": "execute_result"
    }
   ],
   "source": [
    "b.startswith('S')"
   ]
  },
  {
   "cell_type": "code",
   "execution_count": 85,
   "id": "a4e92e04-23e4-4501-b58f-1a6c89fd64ce",
   "metadata": {},
   "outputs": [
    {
     "data": {
      "text/plain": [
       "0"
      ]
     },
     "execution_count": 85,
     "metadata": {},
     "output_type": "execute_result"
    }
   ],
   "source": [
    "b.find('My')"
   ]
  },
  {
   "cell_type": "code",
   "execution_count": 89,
   "id": "94b00e16-94ee-4f6a-89d9-79edd546c8da",
   "metadata": {},
   "outputs": [
    {
     "name": "stdout",
     "output_type": "stream",
     "text": [
      "   Subham Ghosh   \n"
     ]
    },
    {
     "data": {
      "text/plain": [
       "'Subham Ghosh'"
      ]
     },
     "execution_count": 89,
     "metadata": {},
     "output_type": "execute_result"
    }
   ],
   "source": [
    "c='   Subham Ghosh   '\n",
    "print(c)\n",
    "c.strip()"
   ]
  },
  {
   "cell_type": "code",
   "execution_count": 91,
   "id": "80a6c6b8-d634-4897-8db3-a3f209b06591",
   "metadata": {},
   "outputs": [
    {
     "name": "stdout",
     "output_type": "stream",
     "text": [
      "ष\n"
     ]
    }
   ],
   "source": [
    "s=u'\\u0937'\n",
    "print(s)"
   ]
  },
  {
   "cell_type": "code",
   "execution_count": 93,
   "id": "35da2907-8cc8-4e96-9ab0-597ff0c31e28",
   "metadata": {},
   "outputs": [
    {
     "name": "stdout",
     "output_type": "stream",
     "text": [
      "Subham Ghosh\n"
     ]
    }
   ],
   "source": [
    "u=u'\\u0053\\u0075\\u0062\\u0068\\u0061\\u006D\\u0020\\u0047\\u0068\\u006F\\u0073\\u0068'\n",
    "print(u)"
   ]
  },
  {
   "cell_type": "code",
   "execution_count": 95,
   "id": "f9e86d48-361b-4f4b-8f2f-111f80ec39c6",
   "metadata": {},
   "outputs": [
    {
     "name": "stdout",
     "output_type": "stream",
     "text": [
      "\\u0053\\u0075\\u0062\\u0068\\u0061\\u006D\\u0020\\u0047\\u0068\\u006F\\u0073\\u0068\n"
     ]
    }
   ],
   "source": [
    "string = \"Subham Ghosh\"\n",
    "unicode_points = ''.join(f'\\\\u{ord(char):04X}' for char in string)\n",
    "print(unicode_points)\n"
   ]
  },
  {
   "cell_type": "code",
   "execution_count": 97,
   "id": "56cebb4b-90e8-4b16-bb71-dbc5384a451f",
   "metadata": {},
   "outputs": [
    {
     "name": "stdout",
     "output_type": "stream",
     "text": [
      "शुभम घोष\n"
     ]
    }
   ],
   "source": [
    "v=u'\\u0936\\u0941\\u092D\\u092E\\u0020\\u0918\\u094B\\u0937'\n",
    "print(v)"
   ]
  },
  {
   "cell_type": "code",
   "execution_count": 103,
   "id": "493bf330-1650-4b72-8974-34dff4224d47",
   "metadata": {},
   "outputs": [
    {
     "name": "stdout",
     "output_type": "stream",
     "text": [
      "My name is Subham and age is 19\n",
      "My name is Subham and age is 19\n",
      "My name is Subham and age is 19\n"
     ]
    }
   ],
   "source": [
    "name='Subham'\n",
    "age=19\n",
    "print(\"My name is\",name,\"and age is\",age)\n",
    "print(\"My name is %s and age is %d\" %(name,age))\n",
    "print(\"My name is {} and age is {}\" .format(name,age))"
   ]
  },
  {
   "cell_type": "code",
   "execution_count": 105,
   "id": "4b298eca-0154-4a02-ad2d-cf7f068bec2d",
   "metadata": {},
   "outputs": [
    {
     "name": "stdout",
     "output_type": "stream",
     "text": [
      "Hello Adam, your balance is   230.235\n"
     ]
    }
   ],
   "source": [
    "print(\"Hello {0}, your balance is {1:9.3f}\".format(\"Adam\",230.2346))"
   ]
  },
  {
   "cell_type": "code",
   "execution_count": 107,
   "id": "2a08d9d4-cd5f-4810-b5c7-a0f4658ac473",
   "metadata": {},
   "outputs": [
    {
     "name": "stdout",
     "output_type": "stream",
     "text": [
      "Hello Adam, your balance is         230.235\n"
     ]
    }
   ],
   "source": [
    "print(\"Hello {0}, your balance is {1:15.3f}\".format(\"Adam\",230.2346))"
   ]
  },
  {
   "cell_type": "code",
   "execution_count": null,
   "id": "890b0e3f-1c18-4e01-a24e-6acf068ab7d0",
   "metadata": {},
   "outputs": [],
   "source": []
  }
 ],
 "metadata": {
  "kernelspec": {
   "display_name": "Python 3 (ipykernel)",
   "language": "python",
   "name": "python3"
  },
  "language_info": {
   "codemirror_mode": {
    "name": "ipython",
    "version": 3
   },
   "file_extension": ".py",
   "mimetype": "text/x-python",
   "name": "python",
   "nbconvert_exporter": "python",
   "pygments_lexer": "ipython3",
   "version": "3.12.4"
  }
 },
 "nbformat": 4,
 "nbformat_minor": 5
}
